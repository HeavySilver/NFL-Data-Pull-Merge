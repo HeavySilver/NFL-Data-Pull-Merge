{
  "cells": [
    {
      "cell_type": "code",
      "execution_count": null,
      "metadata": {
        "colab": {
          "base_uri": "https://localhost:8080/"
        },
        "id": "GUmLua4W5A41",
        "outputId": "41c8917b-3cf3-4f3e-9ed0-465d0672d31f"
      },
      "outputs": [],
      "source": [
        "import pandas as pd\n",
        "import numpy as np\n",
        "import matplotlib as mpl\n",
        "import matplotlib.pyplot as plt\n",
        "from urllib.request import urlopen\n",
        "from bs4 import BeautifulSoup\n",
        "import string\n",
        "import re\n",
        "import requests\n",
        "from werkzeug.exceptions import HTTPException, NotFound\n",
        "from datetime import datetime\n",
        "!pip install meteostat\n",
        "from meteostat import Hourly, Daily, Stations\n",
        "from pprint import pprint\n",
        "!pip install html-table-parser-python3\n",
        "from html_table_parser.parser import HTMLTableParser"
      ]
    },
    {
      "cell_type": "markdown",
      "metadata": {
        "id": "Qi3rpp8xtcuX"
      },
      "source": [
        "# Gathering all of the active players listed in bold, gathering their data into a dictionary, converting that into a dataframe, and filtering for only offensive players"
      ]
    },
    {
      "cell_type": "code",
      "execution_count": null,
      "metadata": {
        "id": "1i2sGjVa5153"
      },
      "outputs": [],
      "source": [
        "###     GTG     ###\n",
        "ros_url = 'https://www.pro-football-reference.com/players/'\n",
        "alpha = list(string.ascii_uppercase)\n",
        "html = urlopen(ros_url)\n",
        "stats_page = BeautifulSoup(html)"
      ]
    },
    {
      "cell_type": "code",
      "execution_count": null,
      "metadata": {
        "id": "aN5OUk8j8VCD"
      },
      "outputs": [],
      "source": [
        "###     GTG     ###\n",
        "ros_url_list = []\n",
        "for i in alpha:\n",
        "  ros_url_list.append(ros_url + i)"
      ]
    },
    {
      "cell_type": "code",
      "execution_count": null,
      "metadata": {
        "id": "bFIjMabG-cNb"
      },
      "outputs": [],
      "source": [
        "from numba.core.decorators import njit\n",
        "###     GTG     ###\n",
        "#SCRAPING ALL ACTIVE PLAYERS FROM PRO-FOOTBALL-REFERENCE FROM EVERY PAGE\n",
        "#PARSING AND ASSIGNING SPECIFIC INFO INTO A DICTIONARY\n",
        "players = []\n",
        "\n",
        "for i in ros_url_list:\n",
        "  stats_page = BeautifulSoup(urlopen(i))\n",
        "  for j in stats_page.findAll('b'):\n",
        "    url = [j.get('href') for j in j.find_all('a')]\n",
        "    players.append({'player': j.getText().strip(')').split('(')[0].rstrip(), 'pos': (j.getText().strip(')').split('('))[-1], 'url': ' '.join(url)})"
      ]
    },
    {
      "cell_type": "code",
      "execution_count": null,
      "metadata": {
        "id": "kxKzNWbuJJh6"
      },
      "outputs": [],
      "source": [
        "###     GTG     ###\n",
        "#TURNING DICTIONARY INTO DATAFRAME\n",
        "player_df = pd.DataFrame.from_dict(players)"
      ]
    },
    {
      "cell_type": "markdown",
      "metadata": {
        "id": "EnDkolu0u3Vs"
      },
      "source": [
        "# Filtering player list for just offensive players, calling player specific url"
      ]
    },
    {
      "cell_type": "code",
      "execution_count": null,
      "metadata": {
        "id": "CmFZf979jBMg"
      },
      "outputs": [],
      "source": [
        "###     GTG     ###\n",
        "#FILTER FOR QB, RB, WR, TE, K\n",
        "#RESETTING INDEX AS ITS OWN DF\n",
        "off_player = player_df[(player_df.pos == 'QB') | (player_df.pos == 'RB') | (player_df.pos == 'WR') | (player_df.pos == 'TE') | (player_df.pos == 'K')]\n",
        "off_player.reset_index(drop=True, inplace=True)"
      ]
    },
    {
      "cell_type": "code",
      "execution_count": null,
      "metadata": {
        "colab": {
          "base_uri": "https://localhost:8080/"
        },
        "id": "NS4whC-SUrs5",
        "outputId": "592dd9de-7f15-4ba4-d02d-bc1e03456ac2"
      },
      "outputs": [],
      "source": [
        "###     GTG     ###\n",
        "#ADDS SPECIFIC PLAYER URL TO OFF_PLAYER DF\n",
        "play_list = []\n",
        "play_url = 'https://www.pro-football-reference.com'\n",
        "\n",
        "for i in off_player['url']:\n",
        "  play_list.append(play_url + i + '/gamelog/')\n",
        "off_player['new_url'] = play_list"
      ]
    },
    {
      "cell_type": "markdown",
      "metadata": {
        "id": "8kEk_FB21GOm"
      },
      "source": [
        "# Pull in Stadium data and add some missing information"
      ]
    },
    {
      "cell_type": "code",
      "execution_count": null,
      "metadata": {
        "colab": {
          "base_uri": "https://localhost:8080/",
          "height": 396
        },
        "id": "2FLPsihZabPO",
        "outputId": "a305c912-b446-4045-acab-d725545cef28"
      },
      "outputs": [],
      "source": [
        "###     GTG     ###\n",
        "#Call and sort DEF Data - DONT HAVE TO CALL MORE THAN ONCE WHEN FINALIZED\n",
        "team_keys = ['crd', 'atl', 'rav', 'buf', 'car', 'chi', 'cin', 'cle', 'dal', 'den', 'det', 'gnb', 'htx', 'clt', 'jax', 'kan', \\\n",
        "             'rai', 'sdg', 'ram', 'mia', 'min', 'nwe', 'nor', 'nyg', 'nyj', 'phi', 'pit', 'sfo', 'sea', 'tam', 'oti', 'was']\n",
        "dicts = {}\n",
        "\n",
        "for i in team_keys:\n",
        "  dicts[i] = ['https://www.pro-football-reference.com/teams/' + i + '/' + str(j) + '.htm' for j in range(2002, 2023)]  ### UPDATE THIS BEFORE EVERY SEASON ###\n",
        "  team_df = pd.DataFrame.from_dict(dicts)\n",
        "\n",
        "for i in dicts:\n",
        "  defs = pd.DataFrame()\n",
        "  defs = defs.append([pd.DataFrame(pd.read_html(j)[1]).assign(Year=k + 2002) for k, j in enumerate(dicts[i])])\n",
        "\n",
        "  lisp = [  ('Unnamed: 0_level_0',               'Week'),\n",
        "            ('Unnamed: 1_level_0',                'Day'),\n",
        "            ('Unnamed: 2_level_0',               'Date'),\n",
        "            ('Unnamed: 3_level_0', 'Unnamed: 3_level_1'),\n",
        "            ('Unnamed: 4_level_0', 'Unnamed: 4_level_1'),\n",
        "            ('Unnamed: 5_level_0', 'Unnamed: 5_level_1'),\n",
        "            ('Unnamed: 6_level_0',                 'OT'),\n",
        "            ('Unnamed: 7_level_0',                'Rec'),\n",
        "            ('Unnamed: 8_level_0', 'Unnamed: 8_level_1'),\n",
        "            ('Unnamed: 9_level_0',                'Opp'),\n",
        "            (             'Score',                 'Tm'),\n",
        "            (             'Score',                'Opp'),\n",
        "            (           'Defense',               '1stD'),\n",
        "            (           'Defense',              'TotYd'),\n",
        "            (           'Defense',              'PassY'),\n",
        "            (           'Defense',              'RushY'),\n",
        "            (           'Defense',                 'TO'),\n",
        "            (              'Year', )]\n",
        "  #col_list = []\n",
        "  #for k in lisp:\n",
        "    #if k in defs.columns:\n",
        "     #col_list.append(k)\n",
        "  #defs = defs.loc[:, col_list]\n",
        "\n",
        "  #Add 'Year' and 'Tm' column in here somewhere\n",
        "  defs.insert(8, 'Tm', i)\n",
        "\n",
        "  defs.to_csv('/content/drive/MyDrive/NFL Data/Player CSV/DEF/' + i + '.csv')"
      ]
    },
    {
      "cell_type": "markdown",
      "metadata": {
        "id": "7tuRNqBklsRS"
      },
      "source": [
        "**WHEN IMPORTING ANY CSV WITH MULTI-INDEX, YOU MUST IMPORT WITH HEADER=[0,1]...OR HOWEVER MANY ROWS OF HEADERS**"
      ]
    },
    {
      "cell_type": "code",
      "execution_count": null,
      "metadata": {
        "id": "cCiTq9DLwltM"
      },
      "outputs": [],
      "source": [
        "###     GTG     ###\n",
        "\n",
        "###     ADJUST FOR ALL DATA     ###\n",
        "for i in off_player.index:\n",
        "  play_pos = off_player['pos'][i]\n",
        "  name = off_player['player'][i] + ' ' + off_player['pos'][i] + '.csv'\n",
        "  filepath = '/content/drive/MyDrive/NFL Data/Test Folder/'\n",
        "\n",
        "  #Pull Tables\n",
        "  stats = pd.read_html(off_player['new_url'][i])[0]\n",
        "  stats = pd.DataFrame(stats)\n",
        "\n",
        "  #Drop Rows & Reindex\n",
        "  stats.drop(stats[stats['Unnamed: 0_level_0']['Rk'] == 'Rk'].index, inplace=True)\n",
        "  stats = stats[0:-1]\n",
        "  stats.reset_index(drop=True, inplace=True)\n",
        "\n",
        "  #Adjust to Only the Columns Needed\n",
        "  lisp = [  ( 'Unnamed: 0_level_0',                 'Rk'),\n",
        "            ( 'Unnamed: 1_level_0',               'Year'),\n",
        "            ( 'Unnamed: 2_level_0',               'Date'),\n",
        "            ( 'Unnamed: 3_level_0',                 'G#'),\n",
        "            ( 'Unnamed: 4_level_0',               'Week'),\n",
        "            ( 'Unnamed: 5_level_0',                'Age'),\n",
        "            ( 'Unnamed: 6_level_0',                 'Tm'),\n",
        "            ( 'Unnamed: 7_level_0', 'Unnamed: 7_level_1'),\n",
        "            ( 'Unnamed: 8_level_0',                'Opp'),\n",
        "            ( 'Unnamed: 9_level_0',             'Result'),\n",
        "            ('Unnamed: 10_level_0',                 'GS'),\n",
        "            (            'Passing',                'Att'),\n",
        "            (            'Passing',                'Yds'),\n",
        "            (            'Passing',                 'TD'),\n",
        "            (            'Passing',                'Int'),\n",
        "            (            'Passing',                 'Sk'),\n",
        "            (            'Rushing',                'Att'),\n",
        "            (            'Rushing',                'Yds'),\n",
        "            (            'Rushing',                 'TD'),\n",
        "            (          'Receiving',                'Tgt'),\n",
        "            (          'Receiving',                'Rec'),\n",
        "            (          'Receiving',                'Yds'),\n",
        "            (          'Receiving',                 'TD'),\n",
        "            (       'Kick Returns',                 'TD'),\n",
        "            (               'Punt',                 'TD'),\n",
        "            (            'Scoring',                '2PM'),\n",
        "            (            'Scoring',                'XPA'),\n",
        "            (            'Scoring',                'XPM'),\n",
        "            (            'Scoring',                'FGA'),\n",
        "            (            'Scoring',                'FGM'),\n",
        "            (            'Fumbles',                 'FL')]\n",
        "  col_list = []\n",
        "  for i in lisp:\n",
        "    if i in stats.columns:\n",
        "     col_list.append(i)\n",
        "  stats = stats.loc[:, col_list]\n",
        "\n",
        "  stats['pos'] = play_pos\n",
        "\n",
        "  #Save data\n",
        "  if play_pos == 'QB':\n",
        "    stats.to_csv('/content/drive/MyDrive/NFL Data/Player CSV/QB/' + name)\n",
        "  elif play_pos == 'RB':\n",
        "    stats.to_csv('/content/drive/MyDrive/NFL Data/Player CSV/RB/' + name)\n",
        "  elif play_pos == 'WR':\n",
        "    stats.to_csv('/content/drive/MyDrive/NFL Data/Player CSV/WR/' + name)\n",
        "  elif play_pos == 'TE':\n",
        "    stats.to_csv('/content/drive/MyDrive/NFL Data/Player CSV/TE/' + name)\n",
        "  elif play_pos == 'K':\n",
        "    stats.to_csv('/content/drive/MyDrive/NFL Data/Player CSV/K/' + name)"
      ]
    }
  ],
  "metadata": {
    "colab": {
      "machine_shape": "hm",
      "provenance": []
    },
    "gpuClass": "standard",
    "kernelspec": {
      "display_name": "Python 3",
      "name": "python3"
    },
    "language_info": {
      "name": "python"
    }
  },
  "nbformat": 4,
  "nbformat_minor": 0
}
